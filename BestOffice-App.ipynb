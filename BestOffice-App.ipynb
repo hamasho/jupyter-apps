{
 "cells": [
  {
   "cell_type": "code",
   "execution_count": 1,
   "metadata": {},
   "outputs": [],
   "source": [
    "import os\n",
    "\n",
    "import pandas as pd\n",
    "import folium\n",
    "import ipysheet as sh\n",
    "from IPython.display import display\n",
    "import ipywidgets as widgets\n",
    "import gmaps\n",
    "import gmaps.datasets\n",
    "import googlemaps\n",
    "\n",
    "from lib.gmap_util import CommutingMap\n",
    "\n",
    "%load_ext autoreload\n",
    "%autoreload 2"
   ]
  },
  {
   "cell_type": "code",
   "execution_count": 2,
   "metadata": {},
   "outputs": [],
   "source": [
    "API_KEY = os.environ['GCP_API_KEY']\n",
    "client = googlemaps.Client(key=API_KEY)"
   ]
  },
  {
   "cell_type": "code",
   "execution_count": 19,
   "metadata": {},
   "outputs": [],
   "source": [
    "geneva = (46.2, 6.1)\n",
    "montreux = (46.4, 6.9)\n",
    "zurich = (47.4, 8.5)\n",
    "\n",
    "fig = gmaps.figure()\n",
    "#geneva2zurich = gmaps.directions_layer(geneva, zurich)\n",
    "#fig.add_layer(geneva2zurich)\n",
    "#fig"
   ]
  },
  {
   "cell_type": "code",
   "execution_count": 4,
   "metadata": {},
   "outputs": [],
   "source": [
    "#d = client.directions(geneva, zurich, mode='transit')"
   ]
  },
  {
   "cell_type": "code",
   "execution_count": 5,
   "metadata": {},
   "outputs": [],
   "source": [
    "offices = pd.read_csv('data/fabbit-location.csv')\n",
    "workers = pd.read_csv('data/tokyo-worker.csv')"
   ]
  },
  {
   "cell_type": "code",
   "execution_count": 78,
   "metadata": {
    "scrolled": true
   },
   "outputs": [
    {
     "name": "stdout",
     "output_type": "stream",
     "text": [
      "setting up directions....\n",
      "get direction for Shibuya Taro to Fabbit Otemachi\n",
      "get direction from (35.670114, 139.703467) to (35.68457, 139.769114)\n",
      "get direction for Ueno Jiro to Fabbit Otemachi\n",
      "get direction from (35.713456, 139.777827) to (35.68457, 139.769114)\n",
      "get direction for Shibuya Taro to Fabbit Ginza\n",
      "get direction from (35.670114, 139.703467) to (35.674116, 139.770548)\n",
      "get direction for Ueno Jiro to Fabbit Ginza\n",
      "get direction from (35.713456, 139.777827) to (35.674116, 139.770548)\n",
      "completed!\n"
     ]
    }
   ],
   "source": [
    "cmap = CommutingMap()"
   ]
  },
  {
   "cell_type": "code",
   "execution_count": 121,
   "metadata": {},
   "outputs": [
    {
     "data": {
      "application/vnd.jupyter.widget-view+json": {
       "model_id": "6caef3cc5244441db4d9c63ba75986e4",
       "version_major": 2,
       "version_minor": 0
      },
      "text/plain": [
       "interactive(children=(SelectMultiple(description='Workers (multiple)', index=(0,), options=(('Shibuya Taro', 0…"
      ]
     },
     "metadata": {},
     "output_type": "display_data"
    }
   ],
   "source": [
    "cmap.create_widgets()"
   ]
  },
  {
   "cell_type": "code",
   "execution_count": 94,
   "metadata": {},
   "outputs": [
    {
     "data": {
      "application/vnd.jupyter.widget-view+json": {
       "model_id": "9da44e98caab441e8825f258d57cb1dd",
       "version_major": 2,
       "version_minor": 0
      },
      "text/plain": [
       "interactive(children=(SelectMultiple(description='Worker IDXs(multiple)', index=(0,), options=(('A', 0), ('B',…"
      ]
     },
     "metadata": {},
     "output_type": "display_data"
    },
    {
     "data": {
      "text/plain": [
       "<function __main__.f(worker_ids, office_id)>"
      ]
     },
     "execution_count": 94,
     "metadata": {},
     "output_type": "execute_result"
    }
   ],
   "source": [
    "def f(worker_ids, office_id):\n",
    "    print(worker_ids, office_id)\n",
    "\n",
    "style = {'description_width': 'initial'}\n",
    "widgets.interact(f,\n",
    "                 worker_ids=widgets.SelectMultiple(\n",
    "                     options=[('A', 0), ('B', 1), ('C', 2)],\n",
    "                     value=(0,),\n",
    "                     description='Worker IDXs(multiple)',\n",
    "                     style=style,\n",
    "                 ),\n",
    "                 office_id=widgets.RadioButtons(options=[('X', 0), ('Y', 1), ('Z', 2)])\n",
    "                )"
   ]
  },
  {
   "cell_type": "code",
   "execution_count": 118,
   "metadata": {},
   "outputs": [
    {
     "name": "stdout",
     "output_type": "stream",
     "text": [
      "                          someaa\n"
     ]
    }
   ],
   "source": [
    "b = 'some'\n",
    "print(f'{b:>30}aa')"
   ]
  },
  {
   "cell_type": "code",
   "execution_count": 66,
   "metadata": {},
   "outputs": [],
   "source": [
    "d = cmap.direction_pair[0][1].data"
   ]
  },
  {
   "cell_type": "code",
   "execution_count": 104,
   "metadata": {},
   "outputs": [],
   "source": [
    "import dateutil.relativedelta as rd\n",
    "?rd"
   ]
  },
  {
   "cell_type": "code",
   "execution_count": 107,
   "metadata": {},
   "outputs": [],
   "source": [
    "t = rd.relativedelta(seconds=10000)"
   ]
  },
  {
   "cell_type": "code",
   "execution_count": 113,
   "metadata": {},
   "outputs": [],
   "source": [
    "t.minute"
   ]
  },
  {
   "cell_type": "code",
   "execution_count": 110,
   "metadata": {},
   "outputs": [],
   "source": []
  },
  {
   "cell_type": "code",
   "execution_count": null,
   "metadata": {},
   "outputs": [],
   "source": []
  }
 ],
 "metadata": {
  "kernelspec": {
   "display_name": "Python 3",
   "language": "python",
   "name": "python3"
  },
  "language_info": {
   "codemirror_mode": {
    "name": "ipython",
    "version": 3
   },
   "file_extension": ".py",
   "mimetype": "text/x-python",
   "name": "python",
   "nbconvert_exporter": "python",
   "pygments_lexer": "ipython3",
   "version": "3.8.1"
  }
 },
 "nbformat": 4,
 "nbformat_minor": 4
}
